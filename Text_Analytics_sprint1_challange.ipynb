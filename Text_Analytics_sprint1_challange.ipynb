{
 "cells": [
  {
   "cell_type": "code",
   "execution_count": 115,
   "id": "4590a776",
   "metadata": {},
   "outputs": [],
   "source": [
    "import pandas as pd\n",
    "import sklearn as data\n",
    "from sklearn.model_selection import train_test_split\n",
    "from sklearn.feature_extraction.text import TfidfVectorizer\n",
    "from sklearn.naive_bayes import MultinomialNB\n",
    "from sklearn.metrics import recall_score, f1_score, precision_score, accuracy_score,classification_report\n",
    "from sklearn.metrics import confusion_matrix\n",
    "import warnings\n",
    "warnings.filterwarnings('ignore')"
   ]
  },
  {
   "cell_type": "markdown",
   "id": "b863a21a",
   "metadata": {},
   "source": [
    "# Task-1"
   ]
  },
  {
   "cell_type": "code",
   "execution_count": 144,
   "id": "42a32fd7",
   "metadata": {},
   "outputs": [],
   "source": [
    "from sklearn.datasets import fetch_20newsgroups\n",
    "categories=['rec.motorcycles','sci.electronics']  "
   ]
  },
  {
   "cell_type": "markdown",
   "id": "08fbf3a7",
   "metadata": {},
   "source": [
    "# Splitting fetched data into the following two subsets.\n",
    "Training (or development)\n",
    "and Testing (or performance evaluation)"
   ]
  },
  {
   "cell_type": "markdown",
   "id": "aac0f2c1",
   "metadata": {},
   "source": [
    "# Task-2: Vectorization and Buliding the Classifer Model."
   ]
  },
  {
   "cell_type": "markdown",
   "id": "2b5b6543",
   "metadata": {},
   "source": [
    "# 1.Define a common function to meet the following criterion"
   ]
  },
  {
   "cell_type": "markdown",
   "id": "ed25c804",
   "metadata": {},
   "source": [
    "# Convert the text data into vector from using the TF-IDF vectorization method."
   ]
  },
  {
   "cell_type": "markdown",
   "id": "439da040",
   "metadata": {},
   "source": [
    "# Use the MultinomialNB( as classification method.)"
   ]
  },
  {
   "cell_type": "markdown",
   "id": "76eeb3ba",
   "metadata": {},
   "source": [
    "# Find the confusion matrix and classification report."
   ]
  },
  {
   "cell_type": "markdown",
   "id": "b1991788",
   "metadata": {},
   "source": [
    "# Return the first 30 samples of predict and actual output as two lists."
   ]
  },
  {
   "cell_type": "markdown",
   "id": "42d9652c",
   "metadata": {},
   "source": [
    "# 2.Invoke the method above by passing the classifer object, train and test datasets."
   ]
  },
  {
   "cell_type": "markdown",
   "id": "b271a24f",
   "metadata": {},
   "source": [
    "# 3.Print the first 30 samples of predicted and actual output as a table."
   ]
  },
  {
   "cell_type": "markdown",
   "id": "426ec246",
   "metadata": {},
   "source": [
    "# Task-2: Vectorization and Buliding the Classifer Model."
   ]
  },
  {
   "cell_type": "markdown",
   "id": "a33ce53c",
   "metadata": {},
   "source": [
    "# 1.Define a common function to meet the following criterion"
   ]
  },
  {
   "cell_type": "markdown",
   "id": "362c9f66",
   "metadata": {},
   "source": [
    "# Convert the text data into vector from using the TF-IDF vectorization method."
   ]
  },
  {
   "cell_type": "markdown",
   "id": "561e40f9",
   "metadata": {},
   "source": [
    "# Use the MultinomialNB( as classification method.)"
   ]
  },
  {
   "cell_type": "markdown",
   "id": "c51ba1ed",
   "metadata": {},
   "source": [
    "# Find the confusion matrix and classification report."
   ]
  },
  {
   "cell_type": "markdown",
   "id": "e4572828",
   "metadata": {},
   "source": [
    "# Return the first 30 samples of predict and actual output as two lists."
   ]
  },
  {
   "cell_type": "markdown",
   "id": "591a6e63",
   "metadata": {},
   "source": [
    "# 2.Invoke the method above by passing the classifer object, train and test datasets."
   ]
  },
  {
   "cell_type": "markdown",
   "id": "9f5c7a1e",
   "metadata": {},
   "source": [
    "# 3.Print the first 30 samples of predicted and actual output as a table."
   ]
  },
  {
   "cell_type": "code",
   "execution_count": 152,
   "id": "20a39c0d",
   "metadata": {},
   "outputs": [],
   "source": [
    "newsgroups_data = fetch_20newsgroups(subset='all', categories=categories)\n",
    "X = newsgroups_data.data\n",
    "y = newsgroups_data.target"
   ]
  },
  {
   "cell_type": "code",
   "execution_count": 171,
   "id": "acdbd4ac",
   "metadata": {},
   "outputs": [
    {
     "name": "stdout",
     "output_type": "stream",
     "text": [
      "Confusion Matrix:\n",
      "[[199   2]\n",
      " [  0 195]]\n",
      "\n",
      "Classification Report:\n",
      "              precision    recall  f1-score   support\n",
      "\n",
      "           0       1.00      0.99      0.99       201\n",
      "           1       0.99      1.00      0.99       195\n",
      "\n",
      "    accuracy                           0.99       396\n",
      "   macro avg       0.99      1.00      0.99       396\n",
      "weighted avg       1.00      0.99      0.99       396\n",
      "\n",
      "\n",
      "First 30 samples of Predicted and Actual Outputs:\n"
     ]
    },
    {
     "data": {
      "text/html": [
       "<div>\n",
       "<style scoped>\n",
       "    .dataframe tbody tr th:only-of-type {\n",
       "        vertical-align: middle;\n",
       "    }\n",
       "\n",
       "    .dataframe tbody tr th {\n",
       "        vertical-align: top;\n",
       "    }\n",
       "\n",
       "    .dataframe thead th {\n",
       "        text-align: right;\n",
       "    }\n",
       "</style>\n",
       "<table border=\"1\" class=\"dataframe\">\n",
       "  <thead>\n",
       "    <tr style=\"text-align: right;\">\n",
       "      <th></th>\n",
       "      <th>Predicted</th>\n",
       "      <th>Actual</th>\n",
       "    </tr>\n",
       "  </thead>\n",
       "  <tbody>\n",
       "    <tr>\n",
       "      <th>0</th>\n",
       "      <td>1</td>\n",
       "      <td>1</td>\n",
       "    </tr>\n",
       "    <tr>\n",
       "      <th>1</th>\n",
       "      <td>1</td>\n",
       "      <td>1</td>\n",
       "    </tr>\n",
       "    <tr>\n",
       "      <th>2</th>\n",
       "      <td>1</td>\n",
       "      <td>1</td>\n",
       "    </tr>\n",
       "    <tr>\n",
       "      <th>3</th>\n",
       "      <td>1</td>\n",
       "      <td>1</td>\n",
       "    </tr>\n",
       "    <tr>\n",
       "      <th>4</th>\n",
       "      <td>0</td>\n",
       "      <td>0</td>\n",
       "    </tr>\n",
       "  </tbody>\n",
       "</table>\n",
       "</div>"
      ],
      "text/plain": [
       "   Predicted  Actual\n",
       "0          1       1\n",
       "1          1       1\n",
       "2          1       1\n",
       "3          1       1\n",
       "4          0       0"
      ]
     },
     "execution_count": 171,
     "metadata": {},
     "output_type": "execute_result"
    }
   ],
   "source": [
    "def classificationn(categories, test_size=0.2, random_state=42):\n",
    "    X_train, X_test, y_train, y_test = train_test_split(X, y, test_size=test_size, random_state=random_state)\n",
    "    myvector = TfidfVectorizer()\n",
    "    myobject = myvector.fit_transform(X_train)\n",
    "    myobject1 = myvector.transform(X_test)\n",
    "    MNB = MultinomialNB()\n",
    "    MNB.fit(myobject, y_train)\n",
    "    y_pred = MNB.predict(myobject1)\n",
    "    confusion_matrix_result = confusion_matrix(y_test, y_pred)\n",
    "    classification_report_result = classification_report(y_test, y_pred)\n",
    "    first_n_predicted = y_pred[:30].tolist()\n",
    "    first_n_actual = y_test[:30].tolist()\n",
    "\n",
    "    return confusion_matrix_result, classification_report_result, first_n_predicted, first_n_actual\n",
    "\n",
    "categories = ['rec.motorcycles', 'sci.electronics']\n",
    "confusion_matrix_result, classification_report_result, first_n_predicted, first_n_actual = text_classification_and_evaluation(categories)\n",
    "\n",
    "print(\"Confusion Matrix:\")\n",
    "print(confusion_matrix_result)\n",
    "print(\"\\nClassification Report:\")\n",
    "print(classification_report_result)\n",
    "data = {'Predicted': first_n_predicted, 'Actual': first_n_actual}\n",
    "df = pd.DataFrame(data)\n",
    "print(\"\\nFirst 30 samples of Predicted and Actual Outputs:\")\n",
    "df.head()\n"
   ]
  },
  {
   "cell_type": "markdown",
   "id": "7e265f19",
   "metadata": {},
   "source": [
    "# Task-3: Classification on Additional Categories."
   ]
  },
  {
   "cell_type": "markdown",
   "id": "8b6c356e",
   "metadata": {},
   "source": [
    "# 1.Add the following two categories to the prevous input data: 'rec.sport.baseball', 'comp.graphics'."
   ]
  },
  {
   "cell_type": "markdown",
   "id": "783030c6",
   "metadata": {},
   "source": [
    "# Define a common function to meet the following criterion."
   ]
  },
  {
   "cell_type": "markdown",
   "id": "f4d94fa0",
   "metadata": {},
   "source": [
    "# Convert the text data into vector from using the TF-IDF vectorization method.\n"
   ]
  },
  {
   "cell_type": "markdown",
   "id": "d963120f",
   "metadata": {},
   "source": [
    "# Use the MultinomialNB( as classification method.)"
   ]
  },
  {
   "cell_type": "markdown",
   "id": "44dee1bb",
   "metadata": {},
   "source": [
    "# Find the confusion matrix and classification report."
   ]
  },
  {
   "cell_type": "markdown",
   "id": "6e9ece04",
   "metadata": {},
   "source": [
    "# Return the first 30 samples of predict and actual output as two lists."
   ]
  },
  {
   "cell_type": "markdown",
   "id": "fa28c0a5",
   "metadata": {},
   "source": [
    "# 2.Invoke the method above by passing the classifer object, train and test datasets."
   ]
  },
  {
   "cell_type": "markdown",
   "id": "3ade5420",
   "metadata": {},
   "source": [
    "# 3.Print the first 30 samples of predicted and actual output as a table."
   ]
  },
  {
   "cell_type": "code",
   "execution_count": 138,
   "id": "250e5f89",
   "metadata": {},
   "outputs": [],
   "source": [
    "categories=['rec.sport.baseball','comp.graphics']"
   ]
  },
  {
   "cell_type": "code",
   "execution_count": 139,
   "id": "19ddecbb",
   "metadata": {},
   "outputs": [],
   "source": [
    "newsgroups_data = fetch_20newsgroups(subset='all', categories=categories)\n",
    "X = newsgroups_data.data\n",
    "y = newsgroups_data.target\n"
   ]
  },
  {
   "cell_type": "code",
   "execution_count": 174,
   "id": "f8d02f88",
   "metadata": {},
   "outputs": [],
   "source": [
    "def fit_global_mnb(X, y):\n",
    "    global global_mnb\n",
    "    global_mnb.fit(X, y)\n"
   ]
  },
  {
   "cell_type": "code",
   "execution_count": 175,
   "id": "7b2ba28f",
   "metadata": {},
   "outputs": [
    {
     "name": "stdout",
     "output_type": "stream",
     "text": [
      "Confusion Matrix:\n",
      "[[200   3]\n",
      " [  1 190]]\n",
      "\n",
      "Classification Report:\n",
      "              precision    recall  f1-score   support\n",
      "\n",
      "           0       1.00      0.99      0.99       203\n",
      "           1       0.98      0.99      0.99       191\n",
      "\n",
      "    accuracy                           0.99       394\n",
      "   macro avg       0.99      0.99      0.99       394\n",
      "weighted avg       0.99      0.99      0.99       394\n",
      "\n",
      "\n",
      "First 30 samples of Predicted and Actual Outputs:\n"
     ]
    },
    {
     "data": {
      "text/html": [
       "<div>\n",
       "<style scoped>\n",
       "    .dataframe tbody tr th:only-of-type {\n",
       "        vertical-align: middle;\n",
       "    }\n",
       "\n",
       "    .dataframe tbody tr th {\n",
       "        vertical-align: top;\n",
       "    }\n",
       "\n",
       "    .dataframe thead th {\n",
       "        text-align: right;\n",
       "    }\n",
       "</style>\n",
       "<table border=\"1\" class=\"dataframe\">\n",
       "  <thead>\n",
       "    <tr style=\"text-align: right;\">\n",
       "      <th></th>\n",
       "      <th>Predicted</th>\n",
       "      <th>Actual</th>\n",
       "    </tr>\n",
       "  </thead>\n",
       "  <tbody>\n",
       "    <tr>\n",
       "      <th>0</th>\n",
       "      <td>0</td>\n",
       "      <td>0</td>\n",
       "    </tr>\n",
       "    <tr>\n",
       "      <th>1</th>\n",
       "      <td>0</td>\n",
       "      <td>0</td>\n",
       "    </tr>\n",
       "    <tr>\n",
       "      <th>2</th>\n",
       "      <td>0</td>\n",
       "      <td>0</td>\n",
       "    </tr>\n",
       "    <tr>\n",
       "      <th>3</th>\n",
       "      <td>1</td>\n",
       "      <td>1</td>\n",
       "    </tr>\n",
       "    <tr>\n",
       "      <th>4</th>\n",
       "      <td>1</td>\n",
       "      <td>1</td>\n",
       "    </tr>\n",
       "  </tbody>\n",
       "</table>\n",
       "</div>"
      ],
      "text/plain": [
       "   Predicted  Actual\n",
       "0          0       0\n",
       "1          0       0\n",
       "2          0       0\n",
       "3          1       1\n",
       "4          1       1"
      ]
     },
     "execution_count": 175,
     "metadata": {},
     "output_type": "execute_result"
    }
   ],
   "source": [
    "def classification(categories, test_size=0.2, random_state=42):\n",
    "    X_train, X_test, y_train, y_test = train_test_split(X, y, test_size=test_size, random_state=random_state)\n",
    "    myvector = TfidfVectorizer()\n",
    "    myobject = myvector.fit_transform(X_train)\n",
    "    myobject1 = myvector.transform(X_test)\n",
    "    global_mnb = MultinomialNB()\n",
    "    global_mnb.fit(myobject, y_train)\n",
    "    y_pred = MNB.predict(myobject1)\n",
    "    confusion_matrix_result = confusion_matrix(y_test, y_pred)\n",
    "    classification_report_result = classification_report(y_test, y_pred)\n",
    "    first_n_predicted = y_pred[:30].tolist()\n",
    "    first_n_actual = y_test[:30].tolist()\n",
    "\n",
    "\n",
    "    return confusion_matrix_result, classification_report_result, first_n_predicted, first_n_actual\n",
    "\n",
    "categories=['rec.sport.baseball','comp.graphics']\n",
    "confusion_matrix_result, classification_report_result, first_n_predicted, first_n_actual = text_classification_and_evaluation(categories)\n",
    "\n",
    "print(\"Confusion Matrix:\")\n",
    "print(confusion_matrix_result)\n",
    "print(\"\\nClassification Report:\")\n",
    "print(classification_report_result)\n",
    "data = {'Predicted': first_n_predicted, 'Actual': first_n_actual}\n",
    "df = pd.DataFrame(data)\n",
    "print(\"\\nFirst 30 samples of Predicted and Actual Outputs:\")\n",
    "df.head()\n"
   ]
  },
  {
   "cell_type": "markdown",
   "id": "0009f20c",
   "metadata": {},
   "source": [
    "# Task-4: Prediction of Unseen Data."
   ]
  },
  {
   "cell_type": "markdown",
   "id": "f886321e",
   "metadata": {},
   "source": [
    "# Prediction on unseen data using Navie Bayes algorithm. use the following input sentences as test data and predict their outputt labels."
   ]
  },
  {
   "cell_type": "code",
   "execution_count": 109,
   "id": "9f12b6ff",
   "metadata": {},
   "outputs": [
    {
     "name": "stdout",
     "output_type": "stream",
     "text": [
      "Accuracy: 1.0\n",
      "Precision: 1.0\n",
      "Recall: 1.0\n"
     ]
    }
   ],
   "source": [
    "text = [\n",
    "    \"What are the different parts of a computer?\",\n",
    "    \"Playing baseball is good for one's health.\",\n",
    "    \"In which games are you interested?\",\n",
    "    \"It is the unknown around the corner that turns my wheels.\",\n",
    "    \"I am interested in increasing the picture resolution of my computer.\",\n",
    "    \"The team might not win if there is rain.\"\n",
    "]\n",
    "labels = [1, 0, 1, 0, 1, 0]\n",
    "tfidf_vectorizer = TfidfVectorizer()\n",
    "text_vectorized = tfidf_vectorizer.fit_transform(text)\n",
    "X_train, X_test, y_train, y_test = train_test_split(text_vectorized, labels, test_size=0.2, random_state=42)\n",
    "clf = MultinomialNB()\n",
    "clf.fit(X_train, y_train)\n",
    "y_pred = clf.predict(X_test)\n",
    "accuracy = accuracy_score(y_test, y_pred)\n",
    "precision = precision_score(y_test, y_pred)\n",
    "recall = recall_score(y_test, y_pred)\n",
    "print(\"Accuracy:\" ,accuracy)\n",
    "print(\"Precision:\" ,precision)\n",
    "print(\"Recall:\" ,recall)\n"
   ]
  },
  {
   "cell_type": "code",
   "execution_count": null,
   "id": "b1e6c5c3",
   "metadata": {},
   "outputs": [],
   "source": []
  }
 ],
 "metadata": {
  "kernelspec": {
   "display_name": "Python 3 (ipykernel)",
   "language": "python",
   "name": "python3"
  },
  "language_info": {
   "codemirror_mode": {
    "name": "ipython",
    "version": 3
   },
   "file_extension": ".py",
   "mimetype": "text/x-python",
   "name": "python",
   "nbconvert_exporter": "python",
   "pygments_lexer": "ipython3",
   "version": "3.9.13"
  }
 },
 "nbformat": 4,
 "nbformat_minor": 5
}
