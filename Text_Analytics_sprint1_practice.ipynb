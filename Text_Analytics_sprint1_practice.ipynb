{
 "cells": [
  {
   "cell_type": "markdown",
   "id": "9a5bd07d",
   "metadata": {},
   "source": [
    "# Task-1: Classification with smaple Vectorization process"
   ]
  },
  {
   "cell_type": "markdown",
   "id": "44b98897",
   "metadata": {},
   "source": [
    "# 1.Load the Yelp corpus data and preprocess the dataset using the following methods:"
   ]
  },
  {
   "cell_type": "code",
   "execution_count": 72,
   "id": "b11ea645",
   "metadata": {},
   "outputs": [
    {
     "name": "stderr",
     "output_type": "stream",
     "text": [
      "[nltk_data] Downloading package stopwords to\n",
      "[nltk_data]     C:\\Users\\mail4\\AppData\\Roaming\\nltk_data...\n",
      "[nltk_data]   Package stopwords is already up-to-date!\n"
     ]
    }
   ],
   "source": [
    "import pandas as pd\n",
    "import string \n",
    "import nltk\n",
    "nltk.download(\"stopwords\")\n",
    "from nltk.corpus import stopwords\n",
    "from sklearn.model_selection import train_test_split\n",
    "from sklearn.feature_extraction.text import TfidfVectorizer\n",
    "from sklearn.naive_bayes import MultinomialNB\n",
    "from sklearn.metrics import recall_score, f1_score, precision_score, accuracy_score,classification_report\n",
    "from sklearn.metrics import confusion_matrix\n",
    "import warnings\n",
    "warnings.filterwarnings('ignore')"
   ]
  },
  {
   "cell_type": "code",
   "execution_count": 2,
   "id": "170e8cd6",
   "metadata": {},
   "outputs": [
    {
     "data": {
      "text/html": [
       "<div>\n",
       "<style scoped>\n",
       "    .dataframe tbody tr th:only-of-type {\n",
       "        vertical-align: middle;\n",
       "    }\n",
       "\n",
       "    .dataframe tbody tr th {\n",
       "        vertical-align: top;\n",
       "    }\n",
       "\n",
       "    .dataframe thead th {\n",
       "        text-align: right;\n",
       "    }\n",
       "</style>\n",
       "<table border=\"1\" class=\"dataframe\">\n",
       "  <thead>\n",
       "    <tr style=\"text-align: right;\">\n",
       "      <th></th>\n",
       "      <th>business_id</th>\n",
       "      <th>date</th>\n",
       "      <th>review_id</th>\n",
       "      <th>stars</th>\n",
       "      <th>text</th>\n",
       "      <th>type</th>\n",
       "      <th>user_id</th>\n",
       "      <th>cool</th>\n",
       "      <th>useful</th>\n",
       "      <th>funny</th>\n",
       "    </tr>\n",
       "  </thead>\n",
       "  <tbody>\n",
       "    <tr>\n",
       "      <th>0</th>\n",
       "      <td>9yKzy9PApeiPPOUJEtnvkg</td>\n",
       "      <td>2011-01-26</td>\n",
       "      <td>fWKvX83p0-ka4JS3dc6E5A</td>\n",
       "      <td>5</td>\n",
       "      <td>My wife took me here on my birthday for breakf...</td>\n",
       "      <td>review</td>\n",
       "      <td>rLtl8ZkDX5vH5nAx9C3q5Q</td>\n",
       "      <td>2</td>\n",
       "      <td>5</td>\n",
       "      <td>0</td>\n",
       "    </tr>\n",
       "    <tr>\n",
       "      <th>1</th>\n",
       "      <td>ZRJwVLyzEJq1VAihDhYiow</td>\n",
       "      <td>2011-07-27</td>\n",
       "      <td>IjZ33sJrzXqU-0X6U8NwyA</td>\n",
       "      <td>5</td>\n",
       "      <td>I have no idea why some people give bad review...</td>\n",
       "      <td>review</td>\n",
       "      <td>0a2KyEL0d3Yb1V6aivbIuQ</td>\n",
       "      <td>0</td>\n",
       "      <td>0</td>\n",
       "      <td>0</td>\n",
       "    </tr>\n",
       "    <tr>\n",
       "      <th>2</th>\n",
       "      <td>6oRAC4uyJCsJl1X0WZpVSA</td>\n",
       "      <td>2012-06-14</td>\n",
       "      <td>IESLBzqUCLdSzSqm0eCSxQ</td>\n",
       "      <td>4</td>\n",
       "      <td>love the gyro plate. Rice is so good and I als...</td>\n",
       "      <td>review</td>\n",
       "      <td>0hT2KtfLiobPvh6cDC8JQg</td>\n",
       "      <td>0</td>\n",
       "      <td>1</td>\n",
       "      <td>0</td>\n",
       "    </tr>\n",
       "    <tr>\n",
       "      <th>3</th>\n",
       "      <td>_1QQZuf4zZOyFCvXc0o6Vg</td>\n",
       "      <td>2010-05-27</td>\n",
       "      <td>G-WvGaISbqqaMHlNnByodA</td>\n",
       "      <td>5</td>\n",
       "      <td>Rosie, Dakota, and I LOVE Chaparral Dog Park!!...</td>\n",
       "      <td>review</td>\n",
       "      <td>uZetl9T0NcROGOyFfughhg</td>\n",
       "      <td>1</td>\n",
       "      <td>2</td>\n",
       "      <td>0</td>\n",
       "    </tr>\n",
       "    <tr>\n",
       "      <th>4</th>\n",
       "      <td>6ozycU1RpktNG2-1BroVtw</td>\n",
       "      <td>2012-01-05</td>\n",
       "      <td>1uJFq2r5QfJG_6ExMRCaGw</td>\n",
       "      <td>5</td>\n",
       "      <td>General Manager Scott Petello is a good egg!!!...</td>\n",
       "      <td>review</td>\n",
       "      <td>vYmM4KTsC8ZfQBg-j5MWkw</td>\n",
       "      <td>0</td>\n",
       "      <td>0</td>\n",
       "      <td>0</td>\n",
       "    </tr>\n",
       "    <tr>\n",
       "      <th>...</th>\n",
       "      <td>...</td>\n",
       "      <td>...</td>\n",
       "      <td>...</td>\n",
       "      <td>...</td>\n",
       "      <td>...</td>\n",
       "      <td>...</td>\n",
       "      <td>...</td>\n",
       "      <td>...</td>\n",
       "      <td>...</td>\n",
       "      <td>...</td>\n",
       "    </tr>\n",
       "    <tr>\n",
       "      <th>9995</th>\n",
       "      <td>VY_tvNUCCXGXQeSvJl757Q</td>\n",
       "      <td>2012-07-28</td>\n",
       "      <td>Ubyfp2RSDYW0g7Mbr8N3iA</td>\n",
       "      <td>3</td>\n",
       "      <td>First visit...Had lunch here today - used my G...</td>\n",
       "      <td>review</td>\n",
       "      <td>_eqQoPtQ3e3UxLE4faT6ow</td>\n",
       "      <td>1</td>\n",
       "      <td>2</td>\n",
       "      <td>0</td>\n",
       "    </tr>\n",
       "    <tr>\n",
       "      <th>9996</th>\n",
       "      <td>EKzMHI1tip8rC1-ZAy64yg</td>\n",
       "      <td>2012-01-18</td>\n",
       "      <td>2XyIOQKbVFb6uXQdJ0RzlQ</td>\n",
       "      <td>4</td>\n",
       "      <td>Should be called house of deliciousness!\\n\\nI ...</td>\n",
       "      <td>review</td>\n",
       "      <td>ROru4uk5SaYc3rg8IU7SQw</td>\n",
       "      <td>0</td>\n",
       "      <td>0</td>\n",
       "      <td>0</td>\n",
       "    </tr>\n",
       "    <tr>\n",
       "      <th>9997</th>\n",
       "      <td>53YGfwmbW73JhFiemNeyzQ</td>\n",
       "      <td>2010-11-16</td>\n",
       "      <td>jyznYkIbpqVmlsZxSDSypA</td>\n",
       "      <td>4</td>\n",
       "      <td>I recently visited Olive and Ivy for business ...</td>\n",
       "      <td>review</td>\n",
       "      <td>gGbN1aKQHMgfQZkqlsuwzg</td>\n",
       "      <td>0</td>\n",
       "      <td>0</td>\n",
       "      <td>0</td>\n",
       "    </tr>\n",
       "    <tr>\n",
       "      <th>9998</th>\n",
       "      <td>9SKdOoDHcFoxK5ZtsgHJoA</td>\n",
       "      <td>2012-12-02</td>\n",
       "      <td>5UKq9WQE1qQbJ0DJbc-B6Q</td>\n",
       "      <td>2</td>\n",
       "      <td>My nephew just moved to Scottsdale recently so...</td>\n",
       "      <td>review</td>\n",
       "      <td>0lyVoNazXa20WzUyZPLaQQ</td>\n",
       "      <td>0</td>\n",
       "      <td>0</td>\n",
       "      <td>0</td>\n",
       "    </tr>\n",
       "    <tr>\n",
       "      <th>9999</th>\n",
       "      <td>pF7uRzygyZsltbmVpjIyvw</td>\n",
       "      <td>2010-10-16</td>\n",
       "      <td>vWSmOhg2ID1MNZHaWapGbA</td>\n",
       "      <td>5</td>\n",
       "      <td>4-5 locations.. all 4.5 star average.. I think...</td>\n",
       "      <td>review</td>\n",
       "      <td>KSBFytcdjPKZgXKQnYQdkA</td>\n",
       "      <td>0</td>\n",
       "      <td>0</td>\n",
       "      <td>0</td>\n",
       "    </tr>\n",
       "  </tbody>\n",
       "</table>\n",
       "<p>10000 rows × 10 columns</p>\n",
       "</div>"
      ],
      "text/plain": [
       "                 business_id        date               review_id  stars  \\\n",
       "0     9yKzy9PApeiPPOUJEtnvkg  2011-01-26  fWKvX83p0-ka4JS3dc6E5A      5   \n",
       "1     ZRJwVLyzEJq1VAihDhYiow  2011-07-27  IjZ33sJrzXqU-0X6U8NwyA      5   \n",
       "2     6oRAC4uyJCsJl1X0WZpVSA  2012-06-14  IESLBzqUCLdSzSqm0eCSxQ      4   \n",
       "3     _1QQZuf4zZOyFCvXc0o6Vg  2010-05-27  G-WvGaISbqqaMHlNnByodA      5   \n",
       "4     6ozycU1RpktNG2-1BroVtw  2012-01-05  1uJFq2r5QfJG_6ExMRCaGw      5   \n",
       "...                      ...         ...                     ...    ...   \n",
       "9995  VY_tvNUCCXGXQeSvJl757Q  2012-07-28  Ubyfp2RSDYW0g7Mbr8N3iA      3   \n",
       "9996  EKzMHI1tip8rC1-ZAy64yg  2012-01-18  2XyIOQKbVFb6uXQdJ0RzlQ      4   \n",
       "9997  53YGfwmbW73JhFiemNeyzQ  2010-11-16  jyznYkIbpqVmlsZxSDSypA      4   \n",
       "9998  9SKdOoDHcFoxK5ZtsgHJoA  2012-12-02  5UKq9WQE1qQbJ0DJbc-B6Q      2   \n",
       "9999  pF7uRzygyZsltbmVpjIyvw  2010-10-16  vWSmOhg2ID1MNZHaWapGbA      5   \n",
       "\n",
       "                                                   text    type  \\\n",
       "0     My wife took me here on my birthday for breakf...  review   \n",
       "1     I have no idea why some people give bad review...  review   \n",
       "2     love the gyro plate. Rice is so good and I als...  review   \n",
       "3     Rosie, Dakota, and I LOVE Chaparral Dog Park!!...  review   \n",
       "4     General Manager Scott Petello is a good egg!!!...  review   \n",
       "...                                                 ...     ...   \n",
       "9995  First visit...Had lunch here today - used my G...  review   \n",
       "9996  Should be called house of deliciousness!\\n\\nI ...  review   \n",
       "9997  I recently visited Olive and Ivy for business ...  review   \n",
       "9998  My nephew just moved to Scottsdale recently so...  review   \n",
       "9999  4-5 locations.. all 4.5 star average.. I think...  review   \n",
       "\n",
       "                     user_id  cool  useful  funny  \n",
       "0     rLtl8ZkDX5vH5nAx9C3q5Q     2       5      0  \n",
       "1     0a2KyEL0d3Yb1V6aivbIuQ     0       0      0  \n",
       "2     0hT2KtfLiobPvh6cDC8JQg     0       1      0  \n",
       "3     uZetl9T0NcROGOyFfughhg     1       2      0  \n",
       "4     vYmM4KTsC8ZfQBg-j5MWkw     0       0      0  \n",
       "...                      ...   ...     ...    ...  \n",
       "9995  _eqQoPtQ3e3UxLE4faT6ow     1       2      0  \n",
       "9996  ROru4uk5SaYc3rg8IU7SQw     0       0      0  \n",
       "9997  gGbN1aKQHMgfQZkqlsuwzg     0       0      0  \n",
       "9998  0lyVoNazXa20WzUyZPLaQQ     0       0      0  \n",
       "9999  KSBFytcdjPKZgXKQnYQdkA     0       0      0  \n",
       "\n",
       "[10000 rows x 10 columns]"
      ]
     },
     "execution_count": 2,
     "metadata": {},
     "output_type": "execute_result"
    }
   ],
   "source": [
    "text_data=pd.read_csv('DS3_C3_S1_Yelp_Data_Practice.csv')\n",
    "text_data"
   ]
  },
  {
   "cell_type": "markdown",
   "id": "9626d61b",
   "metadata": {},
   "source": [
    "# Method #1: Cleaning the reviews-removal of stop words and punctuation"
   ]
  },
  {
   "cell_type": "code",
   "execution_count": 3,
   "id": "b8f381e5",
   "metadata": {},
   "outputs": [],
   "source": [
    "def text_process(text_data):\n",
    "    nopunc=[char for char in text if char not in string.punctuation]\n",
    "    nopunc=\"\".join(nopunc)\n",
    "    return[word for word in nopunc.split() if word.lower() not in stopwords.words(\"english\")]"
   ]
  },
  {
   "cell_type": "markdown",
   "id": "1e33e119",
   "metadata": {},
   "source": [
    "# Method #2: Conversion of review text from list type to string type data."
   ]
  },
  {
   "cell_type": "code",
   "execution_count": 4,
   "id": "06ddab1d",
   "metadata": {},
   "outputs": [],
   "source": [
    "def listTostring(text_data):\n",
    "    str1=\"\"\n",
    "    return (str.join(text_data))"
   ]
  },
  {
   "cell_type": "code",
   "execution_count": 17,
   "id": "22be6ee3",
   "metadata": {},
   "outputs": [
    {
     "data": {
      "text/html": [
       "<div>\n",
       "<style scoped>\n",
       "    .dataframe tbody tr th:only-of-type {\n",
       "        vertical-align: middle;\n",
       "    }\n",
       "\n",
       "    .dataframe tbody tr th {\n",
       "        vertical-align: top;\n",
       "    }\n",
       "\n",
       "    .dataframe thead th {\n",
       "        text-align: right;\n",
       "    }\n",
       "</style>\n",
       "<table border=\"1\" class=\"dataframe\">\n",
       "  <thead>\n",
       "    <tr style=\"text-align: right;\">\n",
       "      <th></th>\n",
       "      <th>business_id</th>\n",
       "      <th>date</th>\n",
       "      <th>review_id</th>\n",
       "      <th>stars</th>\n",
       "      <th>text</th>\n",
       "      <th>type</th>\n",
       "      <th>user_id</th>\n",
       "      <th>cool</th>\n",
       "      <th>useful</th>\n",
       "      <th>funny</th>\n",
       "    </tr>\n",
       "  </thead>\n",
       "  <tbody>\n",
       "    <tr>\n",
       "      <th>0</th>\n",
       "      <td>9yKzy9PApeiPPOUJEtnvkg</td>\n",
       "      <td>2011-01-26</td>\n",
       "      <td>fWKvX83p0-ka4JS3dc6E5A</td>\n",
       "      <td>5</td>\n",
       "      <td>My wife took me here on my birthday for breakf...</td>\n",
       "      <td>review</td>\n",
       "      <td>rLtl8ZkDX5vH5nAx9C3q5Q</td>\n",
       "      <td>2</td>\n",
       "      <td>5</td>\n",
       "      <td>0</td>\n",
       "    </tr>\n",
       "    <tr>\n",
       "      <th>1</th>\n",
       "      <td>ZRJwVLyzEJq1VAihDhYiow</td>\n",
       "      <td>2011-07-27</td>\n",
       "      <td>IjZ33sJrzXqU-0X6U8NwyA</td>\n",
       "      <td>5</td>\n",
       "      <td>I have no idea why some people give bad review...</td>\n",
       "      <td>review</td>\n",
       "      <td>0a2KyEL0d3Yb1V6aivbIuQ</td>\n",
       "      <td>0</td>\n",
       "      <td>0</td>\n",
       "      <td>0</td>\n",
       "    </tr>\n",
       "    <tr>\n",
       "      <th>2</th>\n",
       "      <td>6oRAC4uyJCsJl1X0WZpVSA</td>\n",
       "      <td>2012-06-14</td>\n",
       "      <td>IESLBzqUCLdSzSqm0eCSxQ</td>\n",
       "      <td>4</td>\n",
       "      <td>love the gyro plate. Rice is so good and I als...</td>\n",
       "      <td>review</td>\n",
       "      <td>0hT2KtfLiobPvh6cDC8JQg</td>\n",
       "      <td>0</td>\n",
       "      <td>1</td>\n",
       "      <td>0</td>\n",
       "    </tr>\n",
       "    <tr>\n",
       "      <th>3</th>\n",
       "      <td>_1QQZuf4zZOyFCvXc0o6Vg</td>\n",
       "      <td>2010-05-27</td>\n",
       "      <td>G-WvGaISbqqaMHlNnByodA</td>\n",
       "      <td>5</td>\n",
       "      <td>Rosie, Dakota, and I LOVE Chaparral Dog Park!!...</td>\n",
       "      <td>review</td>\n",
       "      <td>uZetl9T0NcROGOyFfughhg</td>\n",
       "      <td>1</td>\n",
       "      <td>2</td>\n",
       "      <td>0</td>\n",
       "    </tr>\n",
       "    <tr>\n",
       "      <th>4</th>\n",
       "      <td>6ozycU1RpktNG2-1BroVtw</td>\n",
       "      <td>2012-01-05</td>\n",
       "      <td>1uJFq2r5QfJG_6ExMRCaGw</td>\n",
       "      <td>5</td>\n",
       "      <td>General Manager Scott Petello is a good egg!!!...</td>\n",
       "      <td>review</td>\n",
       "      <td>vYmM4KTsC8ZfQBg-j5MWkw</td>\n",
       "      <td>0</td>\n",
       "      <td>0</td>\n",
       "      <td>0</td>\n",
       "    </tr>\n",
       "  </tbody>\n",
       "</table>\n",
       "</div>"
      ],
      "text/plain": [
       "              business_id        date               review_id  stars  \\\n",
       "0  9yKzy9PApeiPPOUJEtnvkg  2011-01-26  fWKvX83p0-ka4JS3dc6E5A      5   \n",
       "1  ZRJwVLyzEJq1VAihDhYiow  2011-07-27  IjZ33sJrzXqU-0X6U8NwyA      5   \n",
       "2  6oRAC4uyJCsJl1X0WZpVSA  2012-06-14  IESLBzqUCLdSzSqm0eCSxQ      4   \n",
       "3  _1QQZuf4zZOyFCvXc0o6Vg  2010-05-27  G-WvGaISbqqaMHlNnByodA      5   \n",
       "4  6ozycU1RpktNG2-1BroVtw  2012-01-05  1uJFq2r5QfJG_6ExMRCaGw      5   \n",
       "\n",
       "                                                text    type  \\\n",
       "0  My wife took me here on my birthday for breakf...  review   \n",
       "1  I have no idea why some people give bad review...  review   \n",
       "2  love the gyro plate. Rice is so good and I als...  review   \n",
       "3  Rosie, Dakota, and I LOVE Chaparral Dog Park!!...  review   \n",
       "4  General Manager Scott Petello is a good egg!!!...  review   \n",
       "\n",
       "                  user_id  cool  useful  funny  \n",
       "0  rLtl8ZkDX5vH5nAx9C3q5Q     2       5      0  \n",
       "1  0a2KyEL0d3Yb1V6aivbIuQ     0       0      0  \n",
       "2  0hT2KtfLiobPvh6cDC8JQg     0       1      0  \n",
       "3  uZetl9T0NcROGOyFfughhg     1       2      0  \n",
       "4  vYmM4KTsC8ZfQBg-j5MWkw     0       0      0  "
      ]
     },
     "execution_count": 17,
     "metadata": {},
     "output_type": "execute_result"
    }
   ],
   "source": [
    "text_data.head()"
   ]
  },
  {
   "cell_type": "code",
   "execution_count": 18,
   "id": "cf4f105d",
   "metadata": {},
   "outputs": [
    {
     "data": {
      "text/plain": [
       "business_id    0\n",
       "date           0\n",
       "review_id      0\n",
       "stars          0\n",
       "text           0\n",
       "type           0\n",
       "user_id        0\n",
       "cool           0\n",
       "useful         0\n",
       "funny          0\n",
       "dtype: int64"
      ]
     },
     "execution_count": 18,
     "metadata": {},
     "output_type": "execute_result"
    }
   ],
   "source": [
    "text_data.isnull().sum()"
   ]
  },
  {
   "cell_type": "code",
   "execution_count": null,
   "id": "be9064da",
   "metadata": {},
   "outputs": [],
   "source": []
  },
  {
   "cell_type": "markdown",
   "id": "56e0087e",
   "metadata": {},
   "source": [
    "# 2.Split data into training and test sets."
   ]
  },
  {
   "cell_type": "code",
   "execution_count": 19,
   "id": "86fa2b85",
   "metadata": {},
   "outputs": [],
   "source": [
    "docs_train,docs_test,y_train,y_test=train_test_split(text_data.text,text_data.stars,test_size=0.03,random_state=42)"
   ]
  },
  {
   "cell_type": "code",
   "execution_count": 20,
   "id": "9dcb3217",
   "metadata": {},
   "outputs": [
    {
     "data": {
      "text/plain": [
       "7093    I've been coming here for several years.  Can'...\n",
       "1408    I went to the one in Mesa on Baseline. I loved...\n",
       "6690    Only went to the downstairs bar, but cannot wa...\n",
       "3400    A buddy of mine takes me to this place for din...\n",
       "108     It's just like pizza bianco without the wait. ...\n",
       "                              ...                        \n",
       "5734    Very relaxed atmosphere and employees are supe...\n",
       "5191    07/25/11\\n\\nI have a new crush... and it's Chr...\n",
       "5390    I've been frequenting the Dollar store for the...\n",
       "860     I love the girls there. I get my eyebrows done...\n",
       "7270    Scale of 1-10 (multiple visits):\\n10 Food\\n9 S...\n",
       "Name: text, Length: 9700, dtype: object"
      ]
     },
     "execution_count": 20,
     "metadata": {},
     "output_type": "execute_result"
    }
   ],
   "source": [
    "docs_train"
   ]
  },
  {
   "cell_type": "code",
   "execution_count": 21,
   "id": "76321df2",
   "metadata": {},
   "outputs": [
    {
     "data": {
      "text/plain": [
       "7093    5\n",
       "1408    4\n",
       "6690    4\n",
       "3400    3\n",
       "108     5\n",
       "       ..\n",
       "5734    4\n",
       "5191    3\n",
       "5390    4\n",
       "860     5\n",
       "7270    5\n",
       "Name: stars, Length: 9700, dtype: int64"
      ]
     },
     "execution_count": 21,
     "metadata": {},
     "output_type": "execute_result"
    }
   ],
   "source": [
    "y_train"
   ]
  },
  {
   "cell_type": "markdown",
   "id": "2442ca5e",
   "metadata": {},
   "source": [
    "# 3.Vectorize training and testing data using the vectorize below: TfidVectorizer()."
   ]
  },
  {
   "cell_type": "code",
   "execution_count": 27,
   "id": "64a1392c",
   "metadata": {},
   "outputs": [],
   "source": [
    "myvector=TfidfVectorizer()\n",
    "myobject=myvector.fit_transform(docs_train)\n",
    "myobject1=myvector.transform(docs_test)"
   ]
  },
  {
   "cell_type": "code",
   "execution_count": 28,
   "id": "599bae6d",
   "metadata": {},
   "outputs": [
    {
     "data": {
      "text/plain": [
       "array([[0., 0., 0., ..., 0., 0., 0.],\n",
       "       [0., 0., 0., ..., 0., 0., 0.],\n",
       "       [0., 0., 0., ..., 0., 0., 0.],\n",
       "       ...,\n",
       "       [0., 0., 0., ..., 0., 0., 0.],\n",
       "       [0., 0., 0., ..., 0., 0., 0.],\n",
       "       [0., 0., 0., ..., 0., 0., 0.]])"
      ]
     },
     "execution_count": 28,
     "metadata": {},
     "output_type": "execute_result"
    }
   ],
   "source": [
    "myobject.toarray()"
   ]
  },
  {
   "cell_type": "markdown",
   "id": "5af2b221",
   "metadata": {},
   "source": [
    "# 4.perform classification using the MultinomialNB() classifer."
   ]
  },
  {
   "cell_type": "code",
   "execution_count": 29,
   "id": "decdb003",
   "metadata": {},
   "outputs": [
    {
     "data": {
      "text/plain": [
       "MultinomialNB()"
      ]
     },
     "execution_count": 29,
     "metadata": {},
     "output_type": "execute_result"
    }
   ],
   "source": [
    "MNB=MultinomialNB()\n",
    "MNB.fit(myobject,y_train)"
   ]
  },
  {
   "cell_type": "code",
   "execution_count": 30,
   "id": "d6e6871d",
   "metadata": {},
   "outputs": [
    {
     "data": {
      "text/plain": [
       "0.5327835051546391"
      ]
     },
     "execution_count": 30,
     "metadata": {},
     "output_type": "execute_result"
    }
   ],
   "source": [
    "MNB.fit(myobject,y_train)    #Training accurcy\n",
    "MNB.score(myobject,y_train)"
   ]
  },
  {
   "cell_type": "code",
   "execution_count": 31,
   "id": "1fa70df0",
   "metadata": {
    "collapsed": true
   },
   "outputs": [
    {
     "data": {
      "text/plain": [
       "array([4, 5, 4, 4, 5, 4, 4, 4, 4, 4, 4, 4, 4, 4, 5, 4, 4, 4, 5, 4, 4, 4,\n",
       "       4, 4, 4, 4, 4, 4, 4, 4, 4, 4, 4, 4, 4, 4, 5, 4, 4, 4, 4, 4, 4, 4,\n",
       "       4, 4, 4, 5, 4, 4, 4, 4, 4, 4, 4, 4, 4, 4, 5, 4, 4, 4, 4, 4, 5, 4,\n",
       "       5, 4, 4, 4, 4, 5, 4, 4, 4, 4, 4, 5, 4, 4, 4, 4, 4, 4, 5, 4, 5, 4,\n",
       "       4, 4, 4, 4, 3, 4, 4, 5, 4, 4, 4, 5, 4, 4, 4, 4, 5, 4, 4, 4, 4, 4,\n",
       "       4, 4, 4, 4, 4, 4, 4, 4, 5, 4, 4, 5, 4, 4, 4, 4, 4, 4, 4, 4, 4, 4,\n",
       "       4, 4, 5, 4, 4, 4, 4, 4, 4, 4, 4, 4, 4, 5, 5, 4, 4, 4, 4, 5, 4, 4,\n",
       "       4, 5, 5, 4, 4, 4, 4, 4, 4, 4, 4, 4, 4, 5, 4, 4, 4, 4, 4, 5, 5, 4,\n",
       "       4, 4, 4, 4, 5, 5, 4, 4, 4, 4, 4, 4, 4, 4, 4, 4, 5, 4, 5, 5, 4, 4,\n",
       "       4, 4, 4, 5, 5, 4, 4, 4, 5, 5, 4, 4, 4, 5, 5, 4, 4, 4, 4, 4, 4, 4,\n",
       "       4, 4, 4, 4, 4, 5, 4, 4, 5, 4, 4, 4, 4, 4, 4, 4, 4, 4, 4, 5, 5, 4,\n",
       "       4, 4, 4, 4, 4, 4, 4, 4, 4, 4, 4, 4, 4, 4, 4, 4, 4, 4, 4, 4, 4, 4,\n",
       "       4, 5, 4, 5, 4, 4, 5, 4, 4, 4, 4, 4, 4, 4, 4, 4, 4, 5, 4, 4, 4, 5,\n",
       "       4, 5, 4, 4, 4, 4, 4, 4, 4, 4, 4, 5, 4, 4], dtype=int64)"
      ]
     },
     "execution_count": 31,
     "metadata": {},
     "output_type": "execute_result"
    }
   ],
   "source": [
    "#predict\n",
    "y_pred=MNB.predict(myobject1)\n",
    "y_pred"
   ]
  },
  {
   "cell_type": "code",
   "execution_count": 32,
   "id": "c503424b",
   "metadata": {},
   "outputs": [
    {
     "name": "stdout",
     "output_type": "stream",
     "text": [
      "0.49\n"
     ]
    }
   ],
   "source": [
    "print(accuracy_score(y_test[0:200],y_pred[0:200]))   #Testing accuracy"
   ]
  },
  {
   "cell_type": "markdown",
   "id": "47523e93",
   "metadata": {},
   "source": [
    "# 5.Display confusion matrix and classification reports."
   ]
  },
  {
   "cell_type": "code",
   "execution_count": 73,
   "id": "a10f8fee",
   "metadata": {},
   "outputs": [
    {
     "data": {
      "text/plain": [
       "array([[  0,   0,   0,  23,   0],\n",
       "       [  0,   0,   0,  22,   3],\n",
       "       [  0,   0,   1,  46,   1],\n",
       "       [  0,   0,   0, 102,   9],\n",
       "       [  0,   0,   0,  57,  36]], dtype=int64)"
      ]
     },
     "execution_count": 73,
     "metadata": {},
     "output_type": "execute_result"
    }
   ],
   "source": [
    "confusion_matrix(y_test,y_pred)"
   ]
  },
  {
   "cell_type": "code",
   "execution_count": 67,
   "id": "63160b85",
   "metadata": {},
   "outputs": [
    {
     "name": "stdout",
     "output_type": "stream",
     "text": [
      "Accuracy 0.49\n"
     ]
    }
   ],
   "source": [
    "print('Accuracy',accuracy_score(y_test[0:200],y_pred[0:200]))"
   ]
  },
  {
   "cell_type": "code",
   "execution_count": 68,
   "id": "f2dd61eb",
   "metadata": {},
   "outputs": [
    {
     "name": "stdout",
     "output_type": "stream",
     "text": [
      "Recall_score 0.49\n"
     ]
    }
   ],
   "source": [
    "print('Recall_score',recall_score(y_test[0:200],y_pred[0:200],average=\"weighted\"))"
   ]
  },
  {
   "cell_type": "code",
   "execution_count": 69,
   "id": "59a33444",
   "metadata": {},
   "outputs": [
    {
     "name": "stdout",
     "output_type": "stream",
     "text": [
      "f1_score 0.3907599234815878\n"
     ]
    }
   ],
   "source": [
    "print('f1_score',f1_score(y_test[0:200],y_pred[0:200],average=\"weighted\"))"
   ]
  },
  {
   "cell_type": "code",
   "execution_count": 70,
   "id": "dff448c2",
   "metadata": {},
   "outputs": [
    {
     "name": "stdout",
     "output_type": "stream",
     "text": [
      "Precision_score 0.5304986901197605\n"
     ]
    }
   ],
   "source": [
    "print('Precision_score',precision_score(y_test[0:200],y_pred[0:200],average=\"weighted\"))"
   ]
  },
  {
   "cell_type": "markdown",
   "id": "c3cd8ae7",
   "metadata": {},
   "source": [
    "# classification reports"
   ]
  },
  {
   "cell_type": "code",
   "execution_count": 33,
   "id": "e591fb84",
   "metadata": {},
   "outputs": [
    {
     "name": "stdout",
     "output_type": "stream",
     "text": [
      "classification_report               precision    recall  f1-score   support\n",
      "\n",
      "           1       0.00      0.00      0.00        23\n",
      "           2       0.00      0.00      0.00        25\n",
      "           3       1.00      0.02      0.04        48\n",
      "           4       0.41      0.92      0.57       111\n",
      "           5       0.73      0.39      0.51        93\n",
      "\n",
      "    accuracy                           0.46       300\n",
      "   macro avg       0.43      0.27      0.22       300\n",
      "weighted avg       0.54      0.46      0.37       300\n",
      "\n"
     ]
    }
   ],
   "source": [
    "print(\"classification_report\",classification_report(y_test[0:300],y_pred[0:300]))"
   ]
  },
  {
   "cell_type": "markdown",
   "id": "7cd5037c",
   "metadata": {},
   "source": [
    "# 6.Interpret the model using the evaluation metrics."
   ]
  },
  {
   "cell_type": "markdown",
   "id": "e24abee8",
   "metadata": {},
   "source": [
    "Accuracy and Recall_score are getting same weighted average."
   ]
  },
  {
   "cell_type": "markdown",
   "id": "79d32cd5",
   "metadata": {},
   "source": [
    "# Task-2:Classification with Hyperparameterized vectorization process."
   ]
  },
  {
   "cell_type": "markdown",
   "id": "78cdf2b9",
   "metadata": {},
   "source": [
    "# 1.Vectorize training and testing datanusing the Vectorizer below:"
   ]
  },
  {
   "cell_type": "code",
   "execution_count": 48,
   "id": "e44c52fa",
   "metadata": {},
   "outputs": [],
   "source": [
    "myvector=TfidfVectorizer(sublinear_tf=True,max_df=0.5,min_df=1,stop_words=stopwords.words(\"english\"),use_idf=True,smooth_idf=True)\n",
    "myobject=myvector.fit_transform(docs_train)\n",
    "myobject1=myvector.transform(docs_test)"
   ]
  },
  {
   "cell_type": "code",
   "execution_count": 50,
   "id": "28a784e4",
   "metadata": {},
   "outputs": [
    {
     "data": {
      "text/plain": [
       "array([[0., 0., 0., ..., 0., 0., 0.],\n",
       "       [0., 0., 0., ..., 0., 0., 0.],\n",
       "       [0., 0., 0., ..., 0., 0., 0.],\n",
       "       ...,\n",
       "       [0., 0., 0., ..., 0., 0., 0.],\n",
       "       [0., 0., 0., ..., 0., 0., 0.],\n",
       "       [0., 0., 0., ..., 0., 0., 0.]])"
      ]
     },
     "execution_count": 50,
     "metadata": {},
     "output_type": "execute_result"
    }
   ],
   "source": [
    "myobject.toarray()"
   ]
  },
  {
   "cell_type": "markdown",
   "id": "927460ae",
   "metadata": {},
   "source": [
    "# 2.perform classification using the MultinomialNB() classifer."
   ]
  },
  {
   "cell_type": "code",
   "execution_count": 52,
   "id": "56dd201b",
   "metadata": {},
   "outputs": [
    {
     "data": {
      "text/plain": [
       "MultinomialNB()"
      ]
     },
     "execution_count": 52,
     "metadata": {},
     "output_type": "execute_result"
    }
   ],
   "source": [
    "MNB2=MultinomialNB()            #Trainig accuarcy\n",
    "MNB2.fit(myobject,y_train)"
   ]
  },
  {
   "cell_type": "code",
   "execution_count": 53,
   "id": "4d0e8c6c",
   "metadata": {},
   "outputs": [
    {
     "data": {
      "text/plain": [
       "0.5582474226804124"
      ]
     },
     "execution_count": 53,
     "metadata": {},
     "output_type": "execute_result"
    }
   ],
   "source": [
    "MNB2.fit(myobject,y_train)\n",
    "MNB2.score(myobject,y_train)"
   ]
  },
  {
   "cell_type": "code",
   "execution_count": 54,
   "id": "e8f0a8a7",
   "metadata": {},
   "outputs": [
    {
     "data": {
      "text/plain": [
       "array([4, 5, 4, 5, 5, 4, 4, 4, 4, 4, 4, 4, 4, 4, 5, 4, 4, 4, 5, 4, 4, 4,\n",
       "       4, 4, 4, 4, 4, 4, 4, 4, 4, 4, 4, 4, 4, 5, 5, 4, 4, 4, 4, 4, 4, 4,\n",
       "       4, 4, 4, 5, 4, 4, 4, 4, 4, 4, 4, 4, 4, 4, 5, 4, 5, 4, 4, 4, 5, 4,\n",
       "       5, 4, 4, 4, 4, 5, 4, 4, 4, 5, 4, 5, 4, 4, 5, 4, 4, 4, 5, 4, 5, 4,\n",
       "       4, 4, 4, 4, 4, 4, 4, 5, 4, 4, 4, 5, 4, 5, 4, 4, 5, 4, 4, 4, 4, 4,\n",
       "       4, 4, 5, 4, 4, 4, 4, 4, 5, 4, 4, 5, 4, 4, 4, 4, 4, 4, 4, 4, 4, 4,\n",
       "       4, 4, 5, 4, 4, 4, 4, 4, 4, 4, 4, 4, 4, 5, 5, 4, 4, 4, 4, 5, 4, 4,\n",
       "       4, 5, 5, 4, 4, 4, 4, 4, 4, 4, 4, 4, 4, 5, 4, 4, 4, 4, 4, 5, 5, 4,\n",
       "       4, 5, 4, 4, 5, 5, 4, 4, 4, 5, 4, 4, 4, 4, 4, 4, 5, 4, 5, 5, 4, 4,\n",
       "       4, 4, 4, 4, 5, 4, 4, 5, 5, 5, 4, 4, 4, 5, 5, 4, 4, 4, 4, 4, 4, 5,\n",
       "       4, 4, 4, 4, 4, 5, 5, 4, 5, 4, 4, 5, 4, 4, 4, 4, 4, 4, 4, 5, 5, 4,\n",
       "       4, 4, 4, 4, 4, 4, 4, 4, 4, 4, 4, 4, 4, 4, 4, 4, 4, 4, 4, 4, 4, 4,\n",
       "       4, 5, 4, 5, 5, 4, 5, 4, 4, 4, 4, 4, 4, 4, 4, 4, 4, 5, 4, 4, 4, 5,\n",
       "       4, 5, 4, 4, 4, 4, 4, 4, 4, 4, 4, 5, 4, 4], dtype=int64)"
      ]
     },
     "execution_count": 54,
     "metadata": {},
     "output_type": "execute_result"
    }
   ],
   "source": [
    "#predict\n",
    "y_pred1=MNB2.predict(myobject1)\n",
    "y_pred1"
   ]
  },
  {
   "cell_type": "code",
   "execution_count": 55,
   "id": "a6e28844",
   "metadata": {},
   "outputs": [
    {
     "name": "stdout",
     "output_type": "stream",
     "text": [
      "0.49\n"
     ]
    }
   ],
   "source": [
    "print(accuracy_score(y_test[0:200],y_pred1[0:200]))"
   ]
  },
  {
   "cell_type": "markdown",
   "id": "ebb4f1a4",
   "metadata": {},
   "source": [
    "# 3.Display confusion matrix and classification reports."
   ]
  },
  {
   "cell_type": "code",
   "execution_count": 74,
   "id": "2dc0fb5b",
   "metadata": {},
   "outputs": [
    {
     "data": {
      "text/plain": [
       "array([[  0,   0,   0,  19,   4],\n",
       "       [  0,   0,   0,  20,   5],\n",
       "       [  0,   0,   0,  47,   1],\n",
       "       [  0,   0,   0, 100,  11],\n",
       "       [  0,   0,   0,  52,  41]], dtype=int64)"
      ]
     },
     "execution_count": 74,
     "metadata": {},
     "output_type": "execute_result"
    }
   ],
   "source": [
    "confusion_matrix(y_test,y_pred1)"
   ]
  },
  {
   "cell_type": "code",
   "execution_count": 63,
   "id": "8eb5626c",
   "metadata": {},
   "outputs": [
    {
     "name": "stdout",
     "output_type": "stream",
     "text": [
      "Accuracy 0.49\n"
     ]
    }
   ],
   "source": [
    "print('Accuracy',accuracy_score(y_test[0:200],y_pred1[0:200]))"
   ]
  },
  {
   "cell_type": "code",
   "execution_count": 64,
   "id": "35d2b4fd",
   "metadata": {},
   "outputs": [
    {
     "name": "stdout",
     "output_type": "stream",
     "text": [
      "Recall_score 0.49\n"
     ]
    }
   ],
   "source": [
    "print('Recall_score',recall_score(y_test[0:200],y_pred1[0:200],average=\"weighted\"))"
   ]
  },
  {
   "cell_type": "code",
   "execution_count": 65,
   "id": "4f411ab4",
   "metadata": {},
   "outputs": [
    {
     "name": "stdout",
     "output_type": "stream",
     "text": [
      "f1_score 0.38558734131950656\n"
     ]
    }
   ],
   "source": [
    "print('f1_score',f1_score(y_test[0:200],y_pred1[0:200],average=\"weighted\"))"
   ]
  },
  {
   "cell_type": "code",
   "execution_count": 66,
   "id": "5c575e92",
   "metadata": {},
   "outputs": [
    {
     "name": "stdout",
     "output_type": "stream",
     "text": [
      "Precision_score 0.3469167050161067\n"
     ]
    }
   ],
   "source": [
    "print('Precision_score',precision_score(y_test[0:200],y_pred1[0:200],average=\"weighted\"))"
   ]
  },
  {
   "cell_type": "markdown",
   "id": "b95941be",
   "metadata": {},
   "source": [
    "# Classification reports."
   ]
  },
  {
   "cell_type": "code",
   "execution_count": 57,
   "id": "de084fea",
   "metadata": {},
   "outputs": [
    {
     "name": "stdout",
     "output_type": "stream",
     "text": [
      "              precision    recall  f1-score   support\n",
      "\n",
      "           1       0.00      0.00      0.00        23\n",
      "           2       0.00      0.00      0.00        25\n",
      "           3       0.00      0.00      0.00        48\n",
      "           4       0.42      0.90      0.57       111\n",
      "           5       0.66      0.44      0.53        93\n",
      "\n",
      "    accuracy                           0.47       300\n",
      "   macro avg       0.22      0.27      0.22       300\n",
      "weighted avg       0.36      0.47      0.38       300\n",
      "\n"
     ]
    }
   ],
   "source": [
    "print(classification_report(y_test[0:300],y_pred1[0:300]))"
   ]
  },
  {
   "cell_type": "markdown",
   "id": "040922c0",
   "metadata": {},
   "source": [
    "# 4.Interpret the model using the evaluation metrics."
   ]
  },
  {
   "cell_type": "markdown",
   "id": "9652f16b",
   "metadata": {},
   "source": [
    "Accuracy and Recall_score are getting more weighted average."
   ]
  },
  {
   "cell_type": "markdown",
   "id": "87230fe1",
   "metadata": {},
   "source": [
    "# Task-3: Inference"
   ]
  },
  {
   "cell_type": "markdown",
   "id": "d791c562",
   "metadata": {},
   "source": [
    "# Explain what happen when we passed the parameters below in TfidVectorizer()."
   ]
  },
  {
   "cell_type": "code",
   "execution_count": 178,
   "id": "cc1409b3",
   "metadata": {},
   "outputs": [
    {
     "data": {
      "text/plain": [
       "TfidfVectorizer(max_df=0.5,\n",
       "                stop_words=['i', 'me', 'my', 'myself', 'we', 'our', 'ours',\n",
       "                            'ourselves', 'you', \"you're\", \"you've\", \"you'll\",\n",
       "                            \"you'd\", 'your', 'yours', 'yourself', 'yourselves',\n",
       "                            'he', 'him', 'his', 'himself', 'she', \"she's\",\n",
       "                            'her', 'hers', 'herself', 'it', \"it's\", 'its',\n",
       "                            'itself', ...],\n",
       "                sublinear_tf=True)"
      ]
     },
     "execution_count": 178,
     "metadata": {},
     "output_type": "execute_result"
    }
   ],
   "source": [
    "TfidfVectorizer(sublinear_tf=True,max_df=0.5,min_df=1,stop_words=stopwords.words(\"english\"),use_idf=True,smooth_idf=True)"
   ]
  },
  {
   "cell_type": "markdown",
   "id": "442c001a",
   "metadata": {},
   "source": [
    "sublinear_tf=True: Applies a logarithmic scaling to term frequencies, making high-frequency terms have less impact."
   ]
  },
  {
   "cell_type": "markdown",
   "id": "57fd41fb",
   "metadata": {},
   "source": [
    "max_df=0.5: Ignores terms that occur in more than 50% of the documents, filtering out common words."
   ]
  },
  {
   "cell_type": "markdown",
   "id": "671b8fbe",
   "metadata": {},
   "source": [
    "min_df=1: Considers terms that appear in at least 1 document, ensuring even rare words are included."
   ]
  },
  {
   "cell_type": "markdown",
   "id": "29dfcafd",
   "metadata": {},
   "source": [
    "stop_words=stopwords.words(\"english\"): Removes common English stopwords like \"the,\" \"and,\" \"is\" from the text_data."
   ]
  },
  {
   "cell_type": "markdown",
   "id": "25e2698b",
   "metadata": {},
   "source": [
    "use_idf=True: Enables Inverse Document Frequency (IDF) weighting, giving higher weight to rare terms."
   ]
  },
  {
   "cell_type": "markdown",
   "id": "0cc3e127",
   "metadata": {},
   "source": [
    "smooth_idf=True: Adds 1 to the document frequencies to avoid division by zero for terms outside the corpus."
   ]
  }
 ],
 "metadata": {
  "kernelspec": {
   "display_name": "Python 3 (ipykernel)",
   "language": "python",
   "name": "python3"
  },
  "language_info": {
   "codemirror_mode": {
    "name": "ipython",
    "version": 3
   },
   "file_extension": ".py",
   "mimetype": "text/x-python",
   "name": "python",
   "nbconvert_exporter": "python",
   "pygments_lexer": "ipython3",
   "version": "3.9.13"
  }
 },
 "nbformat": 4,
 "nbformat_minor": 5
}
